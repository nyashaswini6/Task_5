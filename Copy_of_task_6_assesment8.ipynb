{
  "nbformat": 4,
  "nbformat_minor": 0,
  "metadata": {
    "colab": {
      "name": "Copy of task_6 assesment8.ipynb",
      "provenance": [],
      "collapsed_sections": []
    },
    "kernelspec": {
      "name": "python3",
      "display_name": "Python 3"
    },
    "language_info": {
      "name": "python"
    }
  },
  "cells": [
    {
      "cell_type": "code",
      "execution_count": null,
      "metadata": {
        "id": "YjZ0AsW6lBW6"
      },
      "outputs": [],
      "source": [
        "import pandas as pd\n",
        "import matplotlib.pyplot as plt\n",
        "import numpy as np\n",
        "from sklearn import linear_model"
      ]
    },
    {
      "cell_type": "markdown",
      "source": [
        "How Much is Your Car Worth?\n",
        "\n",
        "Data about the retail price of 2005 General Motors cars can be found in car_data.csv.\n",
        "\n",
        "The columns are:\n",
        "\n",
        "Price: suggested retail price of the used 2005 GM car in excellent condition.\n",
        "Mileage: number of miles the car has been driven\n",
        "Make: manufacturer of the car such as Saturn, Pontiac, and Chevrolet\n",
        "Model: specific models for each car manufacturer such as Ion, Vibe, Cavalier\n",
        "Trim (of car): specific type of car model such as SE Sedan 4D, Quad Coupe 2D\n",
        "Type: body type such as sedan, coupe, etc.\n",
        "Cylinder: number of cylinders in the engine\n",
        "Liter: a more specific measure of engine size\n",
        "Doors: number of doors\n",
        "Cruise: indicator variable representing whether the car has cruise control (1 = cruise)\n",
        "Sound: indicator variable representing whether the car has upgraded speakers (1 = upgraded)\n",
        "Leather: indicator variable representing whether the car has leather seats (1 = leather)\n",
        "Tasks Part 1\n",
        "Find the linear regression equation for mileage vs price.\n",
        "Chart the original data and the equation on the chart.\n",
        "Find the equation's R² score (use the .score method) to determine whether the equation is a good fit for this data. (0.8 and greater is considered a strong correlation.)\n",
        "Tasks Part 2\n",
        "Use mileage, cylinders, liters, doors, cruise, sound, and leather to find the linear regression equation.\n",
        "Find the equation's R² score (use the .score method) to determine whether the equation is a good fit for this data. (0.8 and greater is considered a strong correlation.)\n",
        "Find the combination of the factors that is the best predictor for price.\n",
        "Tasks , Hard Mode\n",
        "Research dummy variables in scikit-learn to see how to use the make, model, and body type.\n",
        "Find the best combination of factors to predict price."
      ],
      "metadata": {
        "id": "Ezm0kUSHlZq8"
      }
    },
    {
      "cell_type": "code",
      "source": [
        "df = pd.read_csv(\"/content/salary.txt\")"
      ],
      "metadata": {
        "id": "ZDksyhdSlYg7"
      },
      "execution_count": null,
      "outputs": []
    },
    {
      "cell_type": "code",
      "source": [
        "df.shape"
      ],
      "metadata": {
        "id": "gHzBdg3Nlm9Z"
      },
      "execution_count": null,
      "outputs": []
    },
    {
      "cell_type": "code",
      "source": [
        "df.head()"
      ],
      "metadata": {
        "id": "5osEhpzZlqkX"
      },
      "execution_count": null,
      "outputs": []
    },
    {
      "cell_type": "code",
      "source": [
        "df.describe()"
      ],
      "metadata": {
        "id": "I28TxRvYlqnJ"
      },
      "execution_count": null,
      "outputs": []
    },
    {
      "cell_type": "code",
      "source": [
        "#Finding Outliers\n",
        "\n",
        "import seaborn as sns \n",
        "sns.boxplot(df[\"Price\"])"
      ],
      "metadata": {
        "id": "I9eLFuaFlqpi"
      },
      "execution_count": null,
      "outputs": []
    },
    {
      "cell_type": "code",
      "source": [
        "#Calculating IQR\n",
        "\n",
        "percentile25 = df['Price'].quantile(0.25)\n",
        "percentile75 = df['Price'].quantile(0.75)\n",
        "print(\"25th percentile of the data is \",percentile25)\n",
        "print(\"75th percentile of the data is \",percentile75)\n",
        "print(\"IQR :\", percentile75-percentile25)"
      ],
      "metadata": {
        "id": "GTYTM-g6lqr_"
      },
      "execution_count": null,
      "outputs": []
    },
    {
      "cell_type": "code",
      "source": [
        "#Calculating Min Max Values\n",
        "\n",
        "max_value = percentile75 + 1.5 * (percentile75-percentile25)\n",
        "min_value = percentile25 - 1.5 * (percentile75-percentile25)\n",
        "print(max_value)\n",
        "print(min_value)"
      ],
      "metadata": {
        "id": "Y4l0qAqvlquN"
      },
      "execution_count": null,
      "outputs": []
    },
    {
      "cell_type": "code",
      "source": [
        "#Cleaning Outliers By Using Capping Technique\n",
        "\n",
        "df['Price'] = np.where(\n",
        "    df['Price']>max_value,\n",
        "    max_value,\n",
        "    np.where(\n",
        "        df['Price']<min_value,\n",
        "        min_value,\n",
        "        df['Price']\n",
        "    ) \n",
        ")\n",
        "df['Price'].describe()\n",
        "sns.boxplot(df['Price'])"
      ],
      "metadata": {
        "id": "IqhpbIxGlqwH"
      },
      "execution_count": null,
      "outputs": []
    },
    {
      "cell_type": "code",
      "source": [
        "#Finding Outliers\n",
        "\n",
        "sns.boxplot(df['Mileage'])"
      ],
      "metadata": {
        "id": "mUIJdXTglqyN"
      },
      "execution_count": null,
      "outputs": []
    },
    {
      "cell_type": "code",
      "source": [
        "#Calculating IQR\n",
        "\n",
        "percentile25 = df['Mileage'].quantile(0.25)\n",
        "percentile75 = df['Mileage'].quantile(0.75)\n",
        "print(\"25th percentile of the data is \",percentile25)\n",
        "print(\"75th percentile of the data is \",percentile75)\n",
        "print(\"IQR :\", percentile75-percentile25)"
      ],
      "metadata": {
        "id": "uLlgLT0wlq0D"
      },
      "execution_count": null,
      "outputs": []
    },
    {
      "cell_type": "code",
      "source": [
        "#Calculating Min Max Values\n",
        "\n",
        "max_value = percentile75 + 1.5 * (percentile75-percentile25)\n",
        "min_value = percentile25 - 1.5 * (percentile75-percentile25)\n",
        "print(max_value)\n",
        "print(min_value)"
      ],
      "metadata": {
        "id": "Duo5uPQYlq2g"
      },
      "execution_count": null,
      "outputs": []
    },
    {
      "cell_type": "code",
      "source": [
        "#Cleaning Outliers By Using Capping Technique\n",
        "\n",
        "df['Mileage'] = np.where(\n",
        "    df['Mileage']>max_value,\n",
        "    max_value,\n",
        "    np.where(\n",
        "        df['Mileage']<min_value,\n",
        "        min_value,\n",
        "        df['Mileage']\n",
        "    ) \n",
        ")\n",
        "df['Mileage'].describe()\n",
        "sns.boxplot(df['Mileage'])"
      ],
      "metadata": {
        "id": "l4B9wQszlq68"
      },
      "execution_count": null,
      "outputs": []
    },
    {
      "cell_type": "code",
      "source": [
        "#No Outliers in data.\n",
        "\n",
        "df.isnull().sum()\n",
        "df = df.drop_duplicates()\n",
        "df.dtypes"
      ],
      "metadata": {
        "id": "i3Ftb3G_lq91"
      },
      "execution_count": null,
      "outputs": []
    },
    {
      "cell_type": "markdown",
      "source": [
        "Tasks, Part 1"
      ],
      "metadata": {
        "id": "HsNBMidJmV8P"
      }
    },
    {
      "cell_type": "code",
      "source": [
        "#Checking Linear Relationship Between Mileage Feature and Price Target\n",
        "\n",
        "df.plot(x='Mileage', y='Price', style='o')\n",
        "plt.title('Mileage vs Price')\n",
        "plt.xlabel('Mileage')\n",
        "plt.ylabel('Price')\n",
        "plt.show()\n",
        "df[['Mileage','Price']].corr()"
      ],
      "metadata": {
        "id": "oX3vLY4HmRAJ"
      },
      "execution_count": null,
      "outputs": []
    },
    {
      "cell_type": "code",
      "source": [
        "#1. Find the linear regression equation for mileage vs price.\n",
        "\n",
        "X = df[['Mileage']].values \n",
        "y = df['Price'].values\n",
        "\n",
        "from sklearn.model_selection import train_test_split\n",
        "X_train, X_test, y_train, y_test = train_test_split(X, y, test_size=0.2, random_state=0)\n",
        "\n",
        "from sklearn.linear_model import LinearRegression\n",
        "regressor = LinearRegression()\n",
        "regressor.fit(X_train, y_train)\n",
        "\n",
        "m=regressor.coef_\n",
        "c=regressor.intercept_\n",
        "y=m*8221+c\n",
        "print(\"y =\",y)"
      ],
      "metadata": {
        "id": "PiDxkM7AmRCt"
      },
      "execution_count": null,
      "outputs": []
    },
    {
      "cell_type": "code",
      "source": [
        "#2. Chart the original data and the equation on the chart.\n",
        "\n",
        "plt.scatter(X,y)\n",
        "y_new = regressor.coef_*X + regressor.intercept_ \n",
        "plt.plot(X_new,y_new, 'r',lw=3, label='regression line') \n",
        "                                                     \n",
        "plt.xlabel('Mileage', fontsize=20)      \n",
        "plt.ylabel('Price', fontsize=20)       \n",
        "plt.show()\n",
        "\n",
        "y_pred = regressor.predict(X_test)\n",
        "\n",
        "df = pd.DataFrame({'Actual': y_test, 'Predicted': y_pred})\n",
        "df.head()"
      ],
      "metadata": {
        "id": "MT-fh8HomRFP"
      },
      "execution_count": null,
      "outputs": []
    },
    {
      "cell_type": "code",
      "source": [
        "#3. Find the equation's R² score (use the .score method) to determine whether the equation is a good fit for this data. (0.8 and greater is considered a strong correlation.)\n",
        "\n",
        "from sklearn import metrics \n",
        "print('R2- SCORE:', metrics.r2_score(y_test,y_pred))"
      ],
      "metadata": {
        "id": "vkP0NRtmmRHr"
      },
      "execution_count": null,
      "outputs": []
    },
    {
      "cell_type": "markdown",
      "source": [
        "The r2 sqaure value of Mileage and price columns are 0.009.\n",
        "\n",
        "There is no linear relationship in between these two columns.\n",
        "\n",
        "The correlation value also not in range.Because no linear relationship."
      ],
      "metadata": {
        "id": "Na86jYKHmw1h"
      }
    },
    {
      "cell_type": "markdown",
      "source": [
        "Tasks, Part 2\n",
        "\n",
        "*Use mileage, cylinders, liters, doors, cruise, sound, and leather to find the linear regression equation.\n",
        "*Find the equation's R² score (use the .score method) to determine whether the equation is a good fit for this data. (0.8 and greater is considered a strong correlation.)\n",
        "*Find the combination of the factors that is the best predictor for price."
      ],
      "metadata": {
        "id": "sU5lHmiCmz6X"
      }
    },
    {
      "cell_type": "code",
      "source": [
        "#Checking Linear Relationship in between Cylinder feature and Price\n",
        "\n",
        "df.groupby('Cylinder')['Price'].mean().plot()\n",
        "plt.title('Cylinder vs Price')\n",
        "plt.xlabel('Cylinder')\n",
        "plt.ylabel('Price')\n",
        "plt.show()\n",
        "df[['Cylinder','Price']].corr()"
      ],
      "metadata": {
        "id": "DlYCELotmRKc"
      },
      "execution_count": null,
      "outputs": []
    },
    {
      "cell_type": "code",
      "source": [
        "#Checking Linear Relatonship in between Liter feature and Price target\n",
        "\n",
        "df.groupby('Liter')['Price'].mean().plot()\n",
        "plt.title('Liter vs Price')\n",
        "plt.xlabel('Liter')\n",
        "plt.ylabel('Price')\n",
        "plt.show()\n",
        "df[['Liter','Price']].corr()"
      ],
      "metadata": {
        "id": "Rn4VcmBnlrBo"
      },
      "execution_count": null,
      "outputs": []
    },
    {
      "cell_type": "code",
      "source": [
        "#Checking Linear Relationship between Doors feature and Price target\n",
        "\n",
        "df.groupby('Doors')['Price'].mean().plot()\n",
        "plt.title('Doors vs Price')\n",
        "plt.xlabel('Doors')\n",
        "plt.ylabel('Price')\n",
        "plt.show()\n",
        "df[['Cruise','Price']].corr()"
      ],
      "metadata": {
        "id": "jyOHcaEClrEU"
      },
      "execution_count": null,
      "outputs": []
    },
    {
      "cell_type": "code",
      "source": [
        "#Checking Linear Relationship in between Sound feature and Price target\n",
        "\n",
        "df.groupby('Sound')['Price'].mean().plot()\n",
        "plt.title('Sound vs Price')\n",
        "plt.xlabel('Sound')\n",
        "plt.ylabel('Price')\n",
        "plt.show()"
      ],
      "metadata": {
        "id": "souE5CsmnKzb"
      },
      "execution_count": null,
      "outputs": []
    },
    {
      "cell_type": "code",
      "source": [
        "#Checking Linear Relationship in between Leather feature and Price target\n",
        "\n",
        "df.groupby('Leather')['Price'].mean().plot()\n",
        "plt.title('Leather vs Price')\n",
        "plt.xlabel('Leather')\n",
        "plt.ylabel('Price')\n",
        "plt.show()"
      ],
      "metadata": {
        "id": "J_G-70LznK2F"
      },
      "execution_count": null,
      "outputs": []
    },
    {
      "cell_type": "code",
      "source": [
        "#Splitting the data\n",
        "\n",
        "X = df[['Mileage', 'Cylinder', 'Liter', 'Doors', 'Cruise', 'Sound', 'Leather']].values \n",
        "y = df['Price'].values"
      ],
      "metadata": {
        "id": "sVB6KMtwnK4n"
      },
      "execution_count": null,
      "outputs": []
    },
    {
      "cell_type": "code",
      "source": [
        "#Scaling the data\n",
        "\n",
        "from sklearn.preprocessing import StandardScaler \n",
        "scaler = StandardScaler() \n",
        "scaler.fit(X_train,y_train) \n",
        "X_train_scaled = scaler.transform(X_train) \n",
        "X_test_scaled = scaler.transform(X_test)\n",
        "scaler.var_"
      ],
      "metadata": {
        "id": "IJIgmdaBnK6e"
      },
      "execution_count": null,
      "outputs": []
    },
    {
      "cell_type": "code",
      "source": [
        "#Model Fitting\n",
        "\n",
        "from sklearn.linear_model import LinearRegression\n",
        "regressor = LinearRegression()\n",
        "regressor.fit(X_train, y_train)"
      ],
      "metadata": {
        "id": "rV1QSRLznK9I"
      },
      "execution_count": null,
      "outputs": []
    },
    {
      "cell_type": "code",
      "source": [
        "#Calculating Coefficients and Intercept\n",
        "\n",
        "coeff_df = pd.DataFrame(regressor.coef_,[b], columns=['Coefficient'])\n",
        "y_pred = regressor.predict(X_test_scaled)\n",
        "coeff_df\n",
        "regressor.intercept_"
      ],
      "metadata": {
        "id": "mkJS3aAKnK_t"
      },
      "execution_count": null,
      "outputs": []
    },
    {
      "cell_type": "code",
      "source": [
        "##1. Use mileage, cylinders, liters, doors, cruise, sound, and leather to find the linear regression equation.\n",
        "\n",
        "m=regressor.coef_\n",
        "c=regressor.intercept_\n",
        "y=regressor.predict([[8221,6,3.1,4,1,1,1]]) #y=mx+c\n",
        "print('y=',y)\n",
        "df2 = pd.DataFrame({'Actual': y_test, 'Predicted': y_pred})\n",
        "df2"
      ],
      "metadata": {
        "id": "1pgRDWe3ncww"
      },
      "execution_count": null,
      "outputs": []
    },
    {
      "cell_type": "code",
      "source": [
        "#2. Find the equation's R² score (use the .score method) to determine whether the equation is a good fit for this data. (0.8 and greater is considered a strong correlation.)\n",
        "\n",
        "#Evaluation Metric-R2 Square\n",
        "\n",
        "from sklearn import metrics\n",
        "print('R2- SCORE:', metrics.r2_score(y_test,y_pred))"
      ],
      "metadata": {
        "id": "zqSUD_bcnczT"
      },
      "execution_count": null,
      "outputs": []
    },
    {
      "cell_type": "code",
      "source": [
        "#3. Find the combination of the factors that is the best predictor for price.\n",
        "\n",
        "Feature Selection\n",
        "\n",
        "from sklearn.feature_selection import RFE\n",
        "estimator = LinearRegression()\n",
        "selector = RFE(estimator, n_features_to_select=6, step=1)\n",
        "selector = selector.fit(X_train_scaled, y_train)\n",
        "list(zip(['Mileage', 'Cylinder', 'Liter', 'Doors', 'Cruise', 'Sound', 'Leather'],selector.support_))\n",
        "\n",
        "\n",
        "!pip install scikit-learn==0.24.2"
      ],
      "metadata": {
        "id": "MnkxULLQnc1Z"
      },
      "execution_count": null,
      "outputs": []
    },
    {
      "cell_type": "code",
      "source": [
        "#Selecting Important features by using Sequential Feature Selector\n",
        "\n",
        "from sklearn.feature_selection import SequentialFeatureSelector\n",
        "estimator = LinearRegression()\n",
        "sfs = SequentialFeatureSelector(estimator, n_features_to_select=2)\n",
        "sfs.fit(X_train_scaled, y_train)\n",
        "print(list(zip(['Mileage', 'Cylinder', 'Liter', 'Doors', 'Cruise', 'Sound', 'Leather'],sfs.get_support())))"
      ],
      "metadata": {
        "id": "2cYM7UXrnc3z"
      },
      "execution_count": null,
      "outputs": []
    },
    {
      "cell_type": "markdown",
      "source": [
        "Tasks, Hard Mode Research dummy variables in scikit-learn to see how to use the make, model, and body type. Find the best combination of factors to predict price."
      ],
      "metadata": {
        "id": "Tknx8U5tn3s1"
      }
    },
    {
      "cell_type": "code",
      "source": [
        "#1. Research dummy variables in scikit-learn to see how to use the make, model, and body type.\n",
        "\n",
        "df=pd.get_dummies(df,columns=[\"Make\",\"Model\",\"Trim\",\"Type\"])\n",
        "df.head()\n",
        "df.columns"
      ],
      "metadata": {
        "id": "81GSROmUnc51"
      },
      "execution_count": null,
      "outputs": []
    },
    {
      "cell_type": "code",
      "source": [
        "#Selecting Dummy variables for Perticular columns\n",
        "\n",
        "X = df[['Make_Buick', 'Make_Cadillac', 'Make_Chevrolet',\n",
        "       'Make_Pontiac', 'Make_SAAB', 'Make_Saturn', 'Model_9-2X AWD',\n",
        "       'Model_9_3', 'Model_9_3 HO', 'Model_9_5', 'Model_9_5 HO', 'Model_AVEO',\n",
        "       'Model_Bonneville', 'Model_CST-V', 'Model_CTS', 'Model_Cavalier',\n",
        "       'Model_Century', 'Model_Classic', 'Model_Cobalt', 'Model_Corvette',\n",
        "       'Model_Deville', 'Model_G6', 'Model_GTO', 'Model_Grand Am',\n",
        "       'Model_Grand Prix', 'Model_Impala', 'Model_Ion', 'Model_L Series',\n",
        "       'Model_Lacrosse', 'Model_Lesabre', 'Model_Malibu', 'Model_Monte Carlo',\n",
        "       'Model_Park Avenue', 'Model_STS-V6', 'Model_STS-V8', 'Model_Sunfire',\n",
        "       'Model_Vibe', 'Model_XLR-V8','Type_Convertible', 'Type_Coupe',\n",
        "       'Type_Hatchback', 'Type_Sedan', 'Type_Wagon']].values \n",
        "y = df['Price'].values"
      ],
      "metadata": {
        "id": "Cb2Ol6M3nc7d"
      },
      "execution_count": null,
      "outputs": []
    },
    {
      "cell_type": "code",
      "source": [
        "#Splitting\n",
        "\n",
        "from sklearn.model_selection import train_test_split\n",
        "X_train, X_test, y_train, y_test = train_test_split(X, y, test_size=0.2, random_state=0)"
      ],
      "metadata": {
        "id": "GalkglTcn9pm"
      },
      "execution_count": null,
      "outputs": []
    },
    {
      "cell_type": "code",
      "source": [
        "#Scaling\n",
        "\n",
        "from sklearn.preprocessing import StandardScaler \n",
        "scaler = StandardScaler() \n",
        "scaler.fit(X_train,y_train) \n",
        "X_train_scaled = scaler.transform(X_train) \n",
        "X_test_scaled = scaler.transform(X_test)\n",
        "scaler.var_"
      ],
      "metadata": {
        "id": "u1_N9shFn9sm"
      },
      "execution_count": null,
      "outputs": []
    },
    {
      "cell_type": "code",
      "source": [
        "#Model fitting\n",
        "\n",
        "from sklearn.linear_model import LinearRegression\n",
        "regressor = LinearRegression()\n",
        "regressor.fit(X_train_scaled, y_train)\n",
        "LinearRegression()"
      ],
      "metadata": {
        "id": "_X60FQFin9ys"
      },
      "execution_count": null,
      "outputs": []
    },
    {
      "cell_type": "code",
      "source": [
        "#Finding Coefficiets and Intercept\n",
        "\n",
        "coeff_df = pd.DataFrame(regressor.coef_,['Make_Buick', 'Make_Cadillac', 'Make_Chevrolet',\n",
        "       'Make_Pontiac', 'Make_SAAB', 'Make_Saturn', 'Model_9-2X AWD',\n",
        "       'Model_9_3', 'Model_9_3 HO', 'Model_9_5', 'Model_9_5 HO', 'Model_AVEO',\n",
        "       'Model_Bonneville', 'Model_CST-V', 'Model_CTS', 'Model_Cavalier',\n",
        "       'Model_Century', 'Model_Classic', 'Model_Cobalt', 'Model_Corvette',\n",
        "       'Model_Deville', 'Model_G6', 'Model_GTO', 'Model_Grand Am',\n",
        "       'Model_Grand Prix', 'Model_Impala', 'Model_Ion', 'Model_L Series',\n",
        "       'Model_Lacrosse', 'Model_Lesabre', 'Model_Malibu', 'Model_Monte Carlo',\n",
        "       'Model_Park Avenue', 'Model_STS-V6', 'Model_STS-V8', 'Model_Sunfire',\n",
        "       'Model_Vibe', 'Model_XLR-V8','Type_Convertible', 'Type_Coupe',\n",
        "       'Type_Hatchback', 'Type_Sedan', 'Type_Wagon'], columns=['Coefficient'])\n",
        "y_pred = regressor.predict(X_test_scaled)\n",
        "coeff_df"
      ],
      "metadata": {
        "id": "pEkNYmf_nc-A"
      },
      "execution_count": null,
      "outputs": []
    },
    {
      "cell_type": "code",
      "source": [
        "df = pd.DataFrame({'Actual': y_test, 'Predicted': y_pred})\n",
        "df.head()"
      ],
      "metadata": {
        "id": "FzTrDnt2oMLv"
      },
      "execution_count": null,
      "outputs": []
    },
    {
      "cell_type": "code",
      "source": [
        "#Calculating R2-Square\n",
        "\n",
        "from sklearn import metrics\n",
        "print('R2- SCORE:', metrics.r2_score(y_test,y_pred))"
      ],
      "metadata": {
        "id": "MdxDDB1loMOk"
      },
      "execution_count": null,
      "outputs": []
    },
    {
      "cell_type": "markdown",
      "source": [
        "The R2 square value of make,body and type colums for this dataset is 96.16%.\n",
        "\n",
        "These columns are best fit for model"
      ],
      "metadata": {
        "id": "jlYf3D_NoXg1"
      }
    },
    {
      "cell_type": "code",
      "source": [
        "#2. Find the best combination of factors to predict price.\n",
        "\n",
        "from sklearn.feature_selection import RFE\n",
        "estimator = LinearRegression()\n",
        "selector = RFE(estimator, n_features_to_select=6, step=1)\n",
        "selector = selector.fit(X_train_scaled, y_train)\n",
        "list(zip(['Make_Buick', 'Make_Cadillac', 'Make_Chevrolet',\n",
        "       'Make_Pontiac', 'Make_SAAB', 'Make_Saturn', 'Model_9-2X AWD',\n",
        "       'Model_9_3', 'Model_9_3 HO', 'Model_9_5', 'Model_9_5 HO', 'Model_AVEO',\n",
        "       'Model_Bonneville', 'Model_CST-V', 'Model_CTS', 'Model_Cavalier',\n",
        "       'Model_Century', 'Model_Classic', 'Model_Cobalt', 'Model_Corvette',\n",
        "       'Model_Deville', 'Model_G6', 'Model_GTO', 'Model_Grand Am',\n",
        "       'Model_Grand Prix', 'Model_Impala', 'Model_Ion', 'Model_L Series',\n",
        "       'Model_Lacrosse', 'Model_Lesabre', 'Model_Malibu', 'Model_Monte Carlo',\n",
        "       'Model_Park Avenue', 'Model_STS-V6', 'Model_STS-V8', 'Model_Sunfire',\n",
        "       'Model_Vibe', 'Model_XLR-V8','Type_Convertible', 'Type_Coupe',\n",
        "       'Type_Hatchback', 'Type_Sedan', 'Type_Wagon'],selector.support_))"
      ],
      "metadata": {
        "id": "x1RiqaevoMRh"
      },
      "execution_count": null,
      "outputs": []
    },
    {
      "cell_type": "markdown",
      "source": [
        "Make_Pontiac,Model_GTO,Model_Grand Am,Model_Grand Prix,Model_Sunfire and Model_Vibe combination columns are best facotrs for predicting the price."
      ],
      "metadata": {
        "id": "O5ndFnwPojXx"
      }
    }
  ]
}